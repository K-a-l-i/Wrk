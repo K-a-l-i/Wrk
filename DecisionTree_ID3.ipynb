{
 "cells": [
  {
   "cell_type": "markdown",
   "metadata": {},
   "source": [
    "# Decision Tree using ID3"
   ]
  },
  {
   "cell_type": "markdown",
   "metadata": {},
   "source": [
    "## Import Statement"
   ]
  },
  {
   "cell_type": "code",
   "execution_count": 1,
   "metadata": {},
   "outputs": [],
   "source": [
    "import numpy as np\n",
    "import pandas as pd\n",
    "eps = np.finfo(float).eps\n",
    "from numpy import log2 as log\n",
    "import random\n",
    "from matplotlib import pyplot as plt"
   ]
  },
  {
   "cell_type": "markdown",
   "metadata": {},
   "source": [
    "## Data Handling"
   ]
  },
  {
   "cell_type": "code",
   "execution_count": 8,
   "metadata": {},
   "outputs": [],
   "source": [
    "dataset = {'Cloud':['sun','sun','covered','rain','rain','rain','covered','sun','sun','rain','sun','covered','covered'],\n",
    "       'Temperature':['hot','hot','hot','good','fresh','fresh','fresh','good','fresh','good','good','good','hot'],\n",
    "       'Humidity':['high','high','high','high','normal','normal','normal','high','normal','normal','normal','high','normal'],\n",
    "       'Wind':['false','true','false','false','false','true','true','false','false','false','true','true','false'],\n",
    "       'Golf':['No','No','Yes','Yes','Yes','No','Yes','No','Yes','Yes','Yes','Yes','Yes']}\n",
    "test_dataset={'Cloud':['rain'],\n",
    "             'Temperature':['good'],\n",
    "             'Humidity':['high'],\n",
    "             'Wind':['true']}"
   ]
  },
  {
   "cell_type": "code",
   "execution_count": 9,
   "metadata": {},
   "outputs": [
    {
     "name": "stdout",
     "output_type": "stream",
     "text": [
      "      Cloud Temperature Humidity   Wind Golf\n",
      "0       sun         hot     high  false   No\n",
      "1       sun         hot     high   true   No\n",
      "2   covered         hot     high  false  Yes\n",
      "3      rain        good     high  false  Yes\n",
      "4      rain       fresh   normal  false  Yes\n",
      "5      rain       fresh   normal   true   No\n",
      "6   covered       fresh   normal   true  Yes\n",
      "7       sun        good     high  false   No\n",
      "8       sun       fresh   normal  false  Yes\n",
      "9      rain        good   normal  false  Yes\n",
      "10      sun        good   normal   true  Yes\n",
      "11  covered        good     high   true  Yes\n",
      "12  covered         hot   normal  false  Yes\n"
     ]
    }
   ],
   "source": [
    "#creating pandas data frames from data\n",
    "df = pd.DataFrame(dataset,columns=['Cloud','Temperature','Humidity','Wind','Golf'])\n",
    "testseries=pd.DataFrame(test_dataset)\n",
    "print(df)"
   ]
  },
  {
   "cell_type": "markdown",
   "metadata": {},
   "source": [
    "## Find Entropy"
   ]
  },
  {
   "cell_type": "code",
   "execution_count": 32,
   "metadata": {},
   "outputs": [],
   "source": [
    "#function to find entropy of entire dataset\n",
    "def total_entropy(df):\n",
    "    Class = df.keys()[-1]   #To make the code generic, adjustable target varable class name\n",
    "    entropy = 0\n",
    "    vals = df[Class].unique()\n",
    "    for val in vals:\n",
    "        coef = df[Class].value_counts()[val]/len(df[Class])\n",
    "        entropy += -coef*np.log2(coef)\n",
    "    return entropy"
   ]
  },
  {
   "cell_type": "markdown",
   "metadata": {},
   "source": [
    "## Find Entropy for Attribute"
   ]
  },
  {
   "cell_type": "code",
   "execution_count": 49,
   "metadata": {},
   "outputs": [],
   "source": [
    "#function to find the entropy of an attribute. Used when tying to find the attribute which contribtes to the greatest information gain\n",
    "def entropy_attribute(df,attribute):\n",
    "  Class = df.keys()[-1]   #To make the code generic, adjustable target variable class name\n",
    "  target_vars = df[Class].unique()  #This gives all 'Yes' and 'No'\n",
    "  vars = df[attribute].unique()    #This gives different features in that attribute (like 'Hot','Cold' in Temperature)\n",
    "  entropy2 = 0\n",
    "  for var in vars:\n",
    "      entropy = 0\n",
    "      for target_var in target_vars:\n",
    "          num = len(df[attribute][df[attribute]==var][df[Class] ==target_var])\n",
    "          den = len(df[attribute][df[attribute]==var])\n",
    "          fraction = num/(den+eps)\n",
    "          entropy += -fraction*log(fraction+eps)\n",
    "      fraction2 = den/len(df)\n",
    "      entropy2 += -fraction2*entropy  #Sums up all the entropy E(attribute)\n",
    "  return abs(entropy2)\n",
    "\n"
   ]
  },
  {
   "cell_type": "markdown",
   "metadata": {},
   "source": [
    "## Find Winner (Max Gain)"
   ]
  },
  {
   "cell_type": "code",
   "execution_count": 50,
   "metadata": {},
   "outputs": [],
   "source": [
    "#Function to find the attribue which contribtes to the greatest inforation gain when creating a new node\n",
    "def find_winner(df):\n",
    "    Entropy_att = []\n",
    "    IG = []\n",
    "    for key in df.keys()[:-1]:\n",
    "        IG.append(total_entropy(df)-entropy_attribute(df,key))\n",
    "    return df.keys()[:-1][np.argmax(IG)]"
   ]
  },
  {
   "cell_type": "code",
   "execution_count": 51,
   "metadata": {},
   "outputs": [],
   "source": [
    "#Functio to create a subtable of a given attriute for specific values of another. i.e all The temperature values for high Humidity\n",
    "def get_subtable(df, node,val):\n",
    "  return df[df[node] == val].reset_index(drop=True)"
   ]
  },
  {
   "cell_type": "markdown",
   "metadata": {},
   "source": [
    "## Function for Building Tree"
   ]
  },
  {
   "cell_type": "code",
   "execution_count": 52,
   "metadata": {},
   "outputs": [],
   "source": [
    "#Function to actually build the decision tree\n",
    "def buildTree(df,tree=None): \n",
    "    Class = df.keys()[-1]   \n",
    "\n",
    "    #Get attribute with maximum information gain for root node\n",
    "    node = find_winner(df)\n",
    "    \n",
    "    #Get distinct value of that attribute e.g Temperature is node and good, hot and fresh are values\n",
    "    attVal = np.unique(df[node])\n",
    "    \n",
    "    #Create an empty dictionary to create tree    \n",
    "    if tree is None:                    \n",
    "        tree={}\n",
    "        tree[node] = {}\n",
    "    \n",
    "   #make loop to construct a tree by calling this function recursively. \n",
    "    #check if the subset is pure and stops if it is pure. \n",
    "\n",
    "    for val in attVal:\n",
    "        \n",
    "        subtable = get_subtable(df,node,val)\n",
    "        clVal,counts = np.unique(subtable['Golf'],return_counts=True)                        \n",
    "        \n",
    "        if len(counts)==1:#Checking purity of subset\n",
    "            tree[node][val] = clVal[0]                                                    \n",
    "        else:        \n",
    "            tree[node][val] = buildTree(subtable) #Calling the function recursively \n",
    "                   \n",
    "    return tree"
   ]
  },
  {
   "cell_type": "markdown",
   "metadata": {},
   "source": [
    "## Calling buildtree"
   ]
  },
  {
   "cell_type": "code",
   "execution_count": 53,
   "metadata": {},
   "outputs": [
    {
     "name": "stdout",
     "output_type": "stream",
     "text": [
      "{'Cloud': {'covered': 'Yes',\n",
      "           'rain': {'Wind': {'false': 'Yes', 'true': 'No'}},\n",
      "           'sun': {'Humidity': {'high': 'No', 'normal': 'Yes'}}}}\n"
     ]
    }
   ],
   "source": [
    "#creating an instance 'tree' using the original data set\n",
    "tree=buildTree(df)\n",
    "\n",
    "#visualizing tree\n",
    "import pprint\n",
    "pprint.pprint(tree)"
   ]
  },
  {
   "cell_type": "markdown",
   "metadata": {},
   "source": [
    "## Predict Function for Future Input"
   ]
  },
  {
   "cell_type": "code",
   "execution_count": 54,
   "metadata": {},
   "outputs": [],
   "source": [
    "#function that uses a given tree to make a prediciton based on new data (takes a single series as input)\n",
    "def predict(inst,tree):\n",
    "    #This function is used to predict for any input variable \n",
    "    \n",
    "    #Recursively we go through the tree\n",
    "\n",
    "    for nodes in tree.keys():        \n",
    "        \n",
    "        val = inst[nodes]\n",
    "        #Depeding on the data used to build the tree, some trees may not have the same value range as input data. I this case, the predict function randoml selects one of the values the tree as available\n",
    "        try:\n",
    "            tree = tree[nodes][val]\n",
    "        except KeyError:\n",
    "            pred=random.choice(list(list(tree.values())[0].values()))\n",
    "            break\n",
    "        else:    \n",
    "            pred = 0\n",
    "            \n",
    "        if type(tree) is dict:\n",
    "            pred = predict(inst, tree)\n",
    "        else:\n",
    "            pred= tree\n",
    "            break;                            \n",
    "        \n",
    "    return pred"
   ]
  },
  {
   "cell_type": "markdown",
   "metadata": {},
   "source": [
    "## Predicting Test Data Instance"
   ]
  },
  {
   "cell_type": "code",
   "execution_count": 58,
   "metadata": {},
   "outputs": [
    {
     "name": "stdout",
     "output_type": "stream",
     "text": [
      "The new input data is given as:\n",
      " Cloud          rain\n",
      "Temperature    good\n",
      "Humidity       high\n",
      "Wind           true\n",
      "Name: 0, dtype: object\n",
      "--------------------\n",
      "\n",
      "The tree used to determine whether or not golf is appropriate:\n",
      " {'Cloud': {'covered': 'Yes', 'rain': {'Wind': {'false': 'Yes', 'true': 'No'}}, 'sun': {'Humidity': {'high': 'No', 'normal': 'Yes'}}}}\n",
      "----------------------------------------------\n",
      "\n",
      "The tree decides No to Golf!\n",
      "\n",
      "--------------------\n"
     ]
    }
   ],
   "source": [
    "#Note that this test data instance will be used for prediction in bagging and random forest applications to come\n",
    "inst=testseries.iloc[0]\n",
    "print('The new input data is given as:\\n' ,inst)\n",
    "print('--------------------')\n",
    "print('\\nThe tree used to determine whether or not golf is appropriate:\\n', tree)\n",
    "print('----------------------------------------------')\n",
    "\n",
    "#calling the predict function on test data\n",
    "pred=predict(inst,tree)\n",
    "print('\\nThe tree decides '+pred+' to Golf!\\n')\n",
    "print('--------------------')\n",
    "\n"
   ]
  },
  {
   "cell_type": "markdown",
   "metadata": {},
   "source": [
    "# Bagging"
   ]
  },
  {
   "cell_type": "code",
   "execution_count": 59,
   "metadata": {},
   "outputs": [],
   "source": [
    "from collections import defaultdict\n",
    "#number of subsets\n",
    "\n",
    "def bag(dataframe,subnumber):\n",
    "    subno=subnumber\n",
    "    #list of voes by individual trees\n",
    "    votes=[]\n",
    "    votes1=[]\n",
    "    #creating subets to build tree, first taking rows of df then building a dataframe ndf from rows\n",
    "    for i in range(0,subno):\n",
    "        indxs=[]\n",
    "        for i in range(0,len(dataframe)):\n",
    "            indx = random.randint(0,len(dataframe)-1)\n",
    "            indxs.append(indx)\n",
    "        \n",
    "        subset=defaultdict(list)\n",
    "        l=[]\n",
    "        for indx in indxs:\n",
    "            l.append(df.iloc[indx].to_dict())\n",
    "        for d in l: \n",
    "            for key, value in d.items():\n",
    "                subset[key].append(value)\n",
    "        \n",
    "        #creating a data frame from new subset\n",
    "        ndf = pd.DataFrame(subset,columns=['Cloud','Temperature','Humidity','Wind','Golf'])\n",
    "        #building new tree from new data subset and obtaining prediction from test data\n",
    "        Tree=buildTree(ndf)\n",
    "        votes.append(predict(inst,Tree))\n",
    "    #output\n",
    "    print(str(votes.count('Yes'))+' trees voted to play golf and '+str(votes.count('No'))+' trees voted not to play.')\n",
    "    if votes.count('Yes') > votes.count('No'): \n",
    "        print('Given the knowledge of trees, take to the greens and play golf good fellow!') \n",
    "    if votes.count('Yes') < votes.count('No'):\n",
    "        print('The trees whisper no golf today. Go home and have some tea')\n",
    "    if votes.count('Yes') == votes.count('No'):\n",
    "        print('The trees cant decide. Try again or replace the number of subsets with an odd number')\n"
   ]
  },
  {
   "cell_type": "code",
   "execution_count": 60,
   "metadata": {},
   "outputs": [
    {
     "name": "stdout",
     "output_type": "stream",
     "text": [
      "34 trees voted to play golf and 16 trees voted not to play.\n",
      "Given the knowledge of trees, take to the greens and play golf good fellow!\n"
     ]
    }
   ],
   "source": [
    "#Calling Bagging function. Trains on random subsets of initial data, is tested on the same test data\n",
    "bag(df,51)"
   ]
  },
  {
   "cell_type": "markdown",
   "metadata": {},
   "source": [
    "## Bagging Function for Random Forest: Does not print output"
   ]
  },
  {
   "cell_type": "code",
   "execution_count": 61,
   "metadata": {},
   "outputs": [],
   "source": [
    "#Bagging function to be used in the Random Forest function. The only difference between this and the previous bagging function is this returns simply 'Yes' or 'No'\n",
    "def bagRF(dataframe):\n",
    "    #creating subets to build tree, first taking rows of df then building a dataframe ndf from rows\n",
    "    indxs=[]\n",
    "    for i in range(0,len(dataframe)):\n",
    "        indx = random.randint(0,len(dataframe)-1)\n",
    "        indxs.append(indx)\n",
    "        \n",
    "    subset=defaultdict(list)\n",
    "    l=[]\n",
    "    for indx in indxs:\n",
    "        l.append(df.iloc[indx].to_dict())\n",
    "    for d in l: \n",
    "        for key, value in d.items():\n",
    "            subset[key].append(value)\n",
    "  \n",
    "    ndf = pd.DataFrame(subset,columns=['Cloud','Temperature','Humidity','Wind','Golf'])\n",
    "    Tree=buildTree(ndf)\n",
    "        \n",
    "    return str(predict(inst,Tree))"
   ]
  },
  {
   "cell_type": "markdown",
   "metadata": {},
   "source": [
    "# Random Forest"
   ]
  },
  {
   "cell_type": "code",
   "execution_count": 47,
   "metadata": {},
   "outputs": [],
   "source": [
    "#creating Random Forest function. \n",
    "def RF(attributenumb,subnumb,dataframe):\n",
    "    votes=[]\n",
    "    for i in range(0,subnumb):\n",
    "        #Dropping attributes from dataframe\n",
    "        if attributenumb>=len(dataframe.columns):\n",
    "            print(\"try with less attributes\")\n",
    "            return\n",
    "        if attributenumb<=0:\n",
    "            print(\"try with more attributes, and don't be silly\")\n",
    "            return            \n",
    "        else:\n",
    "            k=attributenumb\n",
    "            ndf=dataframe\n",
    "            l=len(ndf.columns)-1\n",
    "            m=l-k\n",
    "            indxs=[]\n",
    "            indxs=random.sample(range(0,l),m)\n",
    "            p=ndf.drop(ndf.columns[indxs],axis=1)\n",
    "            \n",
    "    #Creating subset with replacement\n",
    "            votes.append(bagRF(p))\n",
    "    print(str(votes.count('Yes'))+' trees voted to play golf and '+str(votes.count('No'))+' trees voted not to play.')\n",
    "    if votes.count('Yes') > votes.count('No'): \n",
    "        print('Given the knowledge of trees, take to the greens and play golf good fellow!') \n",
    "    if votes.count('Yes') < votes.count('No'):\n",
    "        print('The trees whisper no golf today. Go home and have some tea')\n",
    "    if votes.count('Yes') == votes.count('No'):\n",
    "        print('The trees cant decide. Try again or replace the number of subsets with an odd number')"
   ]
  },
  {
   "cell_type": "code",
   "execution_count": 48,
   "metadata": {},
   "outputs": [
    {
     "name": "stdout",
     "output_type": "stream",
     "text": [
      "36 trees voted to play golf and 15 trees voted not to play.\n",
      "Given the knowledge of trees, take to the greens and play golf good fellow!\n"
     ]
    }
   ],
   "source": [
    "#calling Random Forest\n",
    "RF(4,51,df)"
   ]
  },
  {
   "cell_type": "code",
   "execution_count": null,
   "metadata": {},
   "outputs": [],
   "source": []
  }
 ],
 "metadata": {
  "kernelspec": {
   "display_name": "Python 3",
   "language": "python",
   "name": "python3"
  },
  "language_info": {
   "codemirror_mode": {
    "name": "ipython",
    "version": 3
   },
   "file_extension": ".py",
   "mimetype": "text/x-python",
   "name": "python",
   "nbconvert_exporter": "python",
   "pygments_lexer": "ipython3",
   "version": "3.7.1"
  }
 },
 "nbformat": 4,
 "nbformat_minor": 2
}
